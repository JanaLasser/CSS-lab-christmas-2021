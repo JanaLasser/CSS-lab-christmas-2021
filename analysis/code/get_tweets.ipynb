{
 "cells": [
  {
   "cell_type": "code",
   "execution_count": 17,
   "id": "f82b1d34-6e8b-4cd1-815b-163b2512dc98",
   "metadata": {},
   "outputs": [],
   "source": [
    "import pandas as pd\n",
    "from twarc import Twarc2\n",
    "from os.path import join\n",
    "from datetime import datetime, timezone\n",
    "import emoji_resources as er\n",
    "from importlib import reload"
   ]
  },
  {
   "cell_type": "code",
   "execution_count": 41,
   "id": "c36fec28-f632-4487-82e6-ce779120b97e",
   "metadata": {},
   "outputs": [],
   "source": [
    "reload(er)\n",
    "emojis = er.emojis\n",
    "languages = er.languages\n",
    "languages.reverse()\n",
    "credentials = er.get_credentials()"
   ]
  },
  {
   "cell_type": "code",
   "execution_count": 30,
   "id": "f3ec5570-8fcc-424d-a524-7d3d4bd4fb3d",
   "metadata": {},
   "outputs": [
    {
     "name": "stdout",
     "output_type": "stream",
     "text": [
      "🤌\n"
     ]
    }
   ],
   "source": [
    "dst = \"../data/tweets\"\n",
    "start = datetime(2019,1, 1, 0, 0, 0, 0, tzinfo=timezone.utc)\n",
    "end = datetime(2021, 11, 28, 0, 0, 0, 0, tzinfo=timezone.utc)\n",
    "lang = \"hi\"\n",
    "emoji = emojis[\"pinchedfingers\"]\n",
    "print(emoji)"
   ]
  },
  {
   "cell_type": "code",
   "execution_count": null,
   "id": "324b7709-dfeb-4d41-bacc-05a067c40359",
   "metadata": {},
   "outputs": [
    {
     "name": "stdout",
     "output_type": "stream",
     "text": [
      "querying tweets for th\n",
      "querying tweets for ko\n",
      "querying tweets for ja\n"
     ]
    },
    {
     "name": "stderr",
     "output_type": "stream",
     "text": [
      "rate limit exceeded: sleeping 522.3400197029114 secs\n",
      "rate limit exceeded: sleeping 561.8930864334106 secs\n",
      "rate limit exceeded: sleeping 544.4329314231873 secs\n",
      "rate limit exceeded: sleeping 527.7880322933197 secs\n",
      "rate limit exceeded: sleeping 496.1571218967438 secs\n",
      "rate limit exceeded: sleeping 492.37884402275085 secs\n",
      "rate limit exceeded: sleeping 459.9915874004364 secs\n",
      "rate limit exceeded: sleeping 451.48892521858215 secs\n",
      "rate limit exceeded: sleeping 450.2048532962799 secs\n",
      "rate limit exceeded: sleeping 445.78484582901 secs\n"
     ]
    }
   ],
   "source": [
    "t = Twarc2(bearer_token=credentials[\"hannah\"])\n",
    "\n",
    "for lang in languages:\n",
    "    print(f\"querying tweets for {lang}\")\n",
    "    if lang == \"hi\":\n",
    "        continue\n",
    "        \n",
    "    tweets = pd.DataFrame()\n",
    "    search_string = f\"{emoji} -is:retweet lang:{lang}\"\n",
    "    \n",
    "    for c in t.search_all(search_string, start_time=start, end_time=end):\n",
    "        tweets = tweets.append(c['data'], ignore_index=False)\n",
    "        \n",
    "    fname = f\"tweets_language-{lang}_emohi-{emoji}_2019-01-01-to-2021-11-28.parquet.gzip\"\n",
    "    tweets.to_parquet(join(dst, fname))"
   ]
  },
  {
   "cell_type": "code",
   "execution_count": null,
   "id": "c1c227ef-21ae-433a-9a65-9fd8caa0b401",
   "metadata": {},
   "outputs": [],
   "source": []
  }
 ],
 "metadata": {
  "kernelspec": {
   "display_name": "Python 3",
   "language": "python",
   "name": "python3"
  },
  "language_info": {
   "codemirror_mode": {
    "name": "ipython",
    "version": 3
   },
   "file_extension": ".py",
   "mimetype": "text/x-python",
   "name": "python",
   "nbconvert_exporter": "python",
   "pygments_lexer": "ipython3",
   "version": "3.9.5"
  }
 },
 "nbformat": 4,
 "nbformat_minor": 5
}
